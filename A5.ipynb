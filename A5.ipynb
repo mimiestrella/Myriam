{
 "cells": [
  {
   "cell_type": "code",
   "execution_count": 1,
   "metadata": {},
   "outputs": [
    {
     "name": "stdout",
     "output_type": "stream",
     "text": [
      "Requirement already satisfied: seaborn in /srv/conda/envs/notebook/lib/python3.7/site-packages (0.11.2)\n",
      "Requirement already satisfied: numpy>=1.15 in /srv/conda/envs/notebook/lib/python3.7/site-packages (from seaborn) (1.18.5)\n",
      "Requirement already satisfied: pandas>=0.23 in /srv/conda/envs/notebook/lib/python3.7/site-packages (from seaborn) (1.0.4)\n",
      "Requirement already satisfied: matplotlib>=2.2 in /srv/conda/envs/notebook/lib/python3.7/site-packages (from seaborn) (3.2.1)\n",
      "Requirement already satisfied: scipy>=1.0 in /srv/conda/envs/notebook/lib/python3.7/site-packages (from seaborn) (1.4.1)\n",
      "Requirement already satisfied: python-dateutil>=2.1 in /srv/conda/envs/notebook/lib/python3.7/site-packages (from matplotlib>=2.2->seaborn) (2.8.1)\n",
      "Requirement already satisfied: kiwisolver>=1.0.1 in /srv/conda/envs/notebook/lib/python3.7/site-packages (from matplotlib>=2.2->seaborn) (1.2.0)\n",
      "Requirement already satisfied: pyparsing!=2.0.4,!=2.1.2,!=2.1.6,>=2.0.1 in /srv/conda/envs/notebook/lib/python3.7/site-packages (from matplotlib>=2.2->seaborn) (2.4.7)\n",
      "Requirement already satisfied: cycler>=0.10 in /srv/conda/envs/notebook/lib/python3.7/site-packages (from matplotlib>=2.2->seaborn) (0.10.0)\n",
      "Requirement already satisfied: six in /srv/conda/envs/notebook/lib/python3.7/site-packages (from cycler>=0.10->matplotlib>=2.2->seaborn) (1.16.0)\n",
      "Requirement already satisfied: pytz>=2017.2 in /srv/conda/envs/notebook/lib/python3.7/site-packages (from pandas>=0.23->seaborn) (2020.1)\n"
     ]
    }
   ],
   "source": [
    "import pandas as pd\n",
    "!pip install seaborn\n",
    "import seaborn as sns\n",
    "import numpy as np"
   ]
  },
  {
   "cell_type": "code",
   "execution_count": 2,
   "metadata": {},
   "outputs": [],
   "source": [
    "data = pd.read_csv(\"antropometria-dataset-1.csv\")"
   ]
  },
  {
   "cell_type": "code",
   "execution_count": 3,
   "metadata": {},
   "outputs": [
    {
     "data": {
      "image/png": "[encoded data removed]",
      "text/plain": [
       "<Figure size 432x288 with 1 Axes>"
      ]
     },
     "metadata": {},
     "output_type": "display_data"
    }
   ],
   "source": [
    "sns.set_theme(style=\"whitegrid\")\n",
    "talla = data['talla']\n",
    "ax = sns.boxplot(x=talla)"
   ]
  },
  {
   "cell_type": "code",
   "execution_count": 4,
   "metadata": {},
   "outputs": [
    {
     "data": {
      "text/plain": [
       "Index(['folio', 'intp', 'entidad', 'desc_ent', 'sexo', 'edad', 'meses', 'peso',\n",
       "       'ropa', 'talla', 'emb', 'temb', 'cintura', 'cadera', 'sistol',\n",
       "       'diastol', 'hpresion', 'tbrazo', 'htension', 'PrimaryLast', 'code_upm',\n",
       "       'est_dis', 'est_urb', 'est_marg', 'pondef', 'est_var'],\n",
       "      dtype='object')"
      ]
     },
     "execution_count": 4,
     "metadata": {},
     "output_type": "execute_result"
    }
   ],
   "source": [
    "data.columns"
   ]
  },
  {
   "cell_type": "code",
   "execution_count": 5,
   "metadata": {},
   "outputs": [
    {
     "data": {
      "text/html": [
       "<div>\n",
       "<style scoped>\n",
       "    .dataframe tbody tr th:only-of-type {\n",
       "        vertical-align: middle;\n",
       "    }\n",
       "\n",
       "    .dataframe tbody tr th {\n",
       "        vertical-align: top;\n",
       "    }\n",
       "\n",
       "    .dataframe thead th {\n",
       "        text-align: right;\n",
       "    }\n",
       "</style>\n",
       "<table border=\"1\" class=\"dataframe\">\n",
       "  <thead>\n",
       "    <tr style=\"text-align: right;\">\n",
       "      <th></th>\n",
       "      <th>folio</th>\n",
       "      <th>intp</th>\n",
       "      <th>entidad</th>\n",
       "      <th>desc_ent</th>\n",
       "      <th>sexo</th>\n",
       "      <th>edad</th>\n",
       "      <th>meses</th>\n",
       "      <th>peso</th>\n",
       "      <th>ropa</th>\n",
       "      <th>talla</th>\n",
       "      <th>...</th>\n",
       "      <th>hpresion</th>\n",
       "      <th>tbrazo</th>\n",
       "      <th>htension</th>\n",
       "      <th>PrimaryLast</th>\n",
       "      <th>code_upm</th>\n",
       "      <th>est_dis</th>\n",
       "      <th>est_urb</th>\n",
       "      <th>est_marg</th>\n",
       "      <th>pondef</th>\n",
       "      <th>est_var</th>\n",
       "    </tr>\n",
       "  </thead>\n",
       "  <tbody>\n",
       "    <tr>\n",
       "      <th>3</th>\n",
       "      <td>91526</td>\n",
       "      <td>4</td>\n",
       "      <td>9</td>\n",
       "      <td>DISTRITO FEDERAL</td>\n",
       "      <td>1</td>\n",
       "      <td>10</td>\n",
       "      <td>8</td>\n",
       "      <td>33.400</td>\n",
       "      <td>2</td>\n",
       "      <td>146.50</td>\n",
       "      <td>...</td>\n",
       "      <td>7:40</td>\n",
       "      <td>3</td>\n",
       "      <td>7:45</td>\n",
       "      <td>1</td>\n",
       "      <td>M0931</td>\n",
       "      <td>4</td>\n",
       "      <td>3</td>\n",
       "      <td>2</td>\n",
       "      <td>1832.581391</td>\n",
       "      <td>94</td>\n",
       "    </tr>\n",
       "    <tr>\n",
       "      <th>5</th>\n",
       "      <td>241555</td>\n",
       "      <td>3</td>\n",
       "      <td>24</td>\n",
       "      <td>SAN LUIS POTOSI</td>\n",
       "      <td>1</td>\n",
       "      <td>10</td>\n",
       "      <td>7</td>\n",
       "      <td>31.900</td>\n",
       "      <td>1</td>\n",
       "      <td>141.45</td>\n",
       "      <td>...</td>\n",
       "      <td>20:12</td>\n",
       "      <td>1</td>\n",
       "      <td>20:19</td>\n",
       "      <td>1</td>\n",
       "      <td>M2435</td>\n",
       "      <td>5</td>\n",
       "      <td>3</td>\n",
       "      <td>1</td>\n",
       "      <td>588.463281</td>\n",
       "      <td>245</td>\n",
       "    </tr>\n",
       "    <tr>\n",
       "      <th>9</th>\n",
       "      <td>31220</td>\n",
       "      <td>3</td>\n",
       "      <td>3</td>\n",
       "      <td>BAJA CALIFORNIA SUR</td>\n",
       "      <td>1</td>\n",
       "      <td>10</td>\n",
       "      <td>10</td>\n",
       "      <td>48.025</td>\n",
       "      <td>1</td>\n",
       "      <td>147.05</td>\n",
       "      <td>...</td>\n",
       "      <td>17:09</td>\n",
       "      <td>2</td>\n",
       "      <td>17:09</td>\n",
       "      <td>1</td>\n",
       "      <td>M0331</td>\n",
       "      <td>5</td>\n",
       "      <td>3</td>\n",
       "      <td>1</td>\n",
       "      <td>138.063636</td>\n",
       "      <td>35</td>\n",
       "    </tr>\n",
       "    <tr>\n",
       "      <th>17</th>\n",
       "      <td>320763</td>\n",
       "      <td>4</td>\n",
       "      <td>32</td>\n",
       "      <td>ZACATECAS</td>\n",
       "      <td>1</td>\n",
       "      <td>11</td>\n",
       "      <td>3</td>\n",
       "      <td>31.500</td>\n",
       "      <td>1</td>\n",
       "      <td>140.65</td>\n",
       "      <td>...</td>\n",
       "      <td>12:40</td>\n",
       "      <td>1</td>\n",
       "      <td>12:55</td>\n",
       "      <td>1</td>\n",
       "      <td>M3220</td>\n",
       "      <td>3</td>\n",
       "      <td>2</td>\n",
       "      <td>1</td>\n",
       "      <td>1285.844656</td>\n",
       "      <td>323</td>\n",
       "    </tr>\n",
       "    <tr>\n",
       "      <th>21</th>\n",
       "      <td>261348</td>\n",
       "      <td>5</td>\n",
       "      <td>26</td>\n",
       "      <td>SONORA</td>\n",
       "      <td>1</td>\n",
       "      <td>11</td>\n",
       "      <td>7</td>\n",
       "      <td>59.850</td>\n",
       "      <td>2</td>\n",
       "      <td>146.50</td>\n",
       "      <td>...</td>\n",
       "      <td>7:00</td>\n",
       "      <td>2</td>\n",
       "      <td>7:10</td>\n",
       "      <td>1</td>\n",
       "      <td>M2632</td>\n",
       "      <td>2</td>\n",
       "      <td>1</td>\n",
       "      <td>2</td>\n",
       "      <td>737.343409</td>\n",
       "      <td>262</td>\n",
       "    </tr>\n",
       "    <tr>\n",
       "      <th>...</th>\n",
       "      <td>...</td>\n",
       "      <td>...</td>\n",
       "      <td>...</td>\n",
       "      <td>...</td>\n",
       "      <td>...</td>\n",
       "      <td>...</td>\n",
       "      <td>...</td>\n",
       "      <td>...</td>\n",
       "      <td>...</td>\n",
       "      <td>...</td>\n",
       "      <td>...</td>\n",
       "      <td>...</td>\n",
       "      <td>...</td>\n",
       "      <td>...</td>\n",
       "      <td>...</td>\n",
       "      <td>...</td>\n",
       "      <td>...</td>\n",
       "      <td>...</td>\n",
       "      <td>...</td>\n",
       "      <td>...</td>\n",
       "      <td>...</td>\n",
       "    </tr>\n",
       "    <tr>\n",
       "      <th>18626</th>\n",
       "      <td>171455</td>\n",
       "      <td>1</td>\n",
       "      <td>17</td>\n",
       "      <td>MORELOS</td>\n",
       "      <td>1</td>\n",
       "      <td>71</td>\n",
       "      <td>1</td>\n",
       "      <td>77.350</td>\n",
       "      <td>2</td>\n",
       "      <td>171.30</td>\n",
       "      <td>...</td>\n",
       "      <td>8:20</td>\n",
       "      <td>1</td>\n",
       "      <td>8:30</td>\n",
       "      <td>1</td>\n",
       "      <td>M1732</td>\n",
       "      <td>2</td>\n",
       "      <td>1</td>\n",
       "      <td>2</td>\n",
       "      <td>627.566400</td>\n",
       "      <td>172</td>\n",
       "    </tr>\n",
       "    <tr>\n",
       "      <th>18627</th>\n",
       "      <td>300843</td>\n",
       "      <td>1</td>\n",
       "      <td>30</td>\n",
       "      <td>VERACRUZ DE IGNACIO DE LA LLAVE</td>\n",
       "      <td>1</td>\n",
       "      <td>79</td>\n",
       "      <td>3</td>\n",
       "      <td>68.600</td>\n",
       "      <td>1</td>\n",
       "      <td>150.20</td>\n",
       "      <td>...</td>\n",
       "      <td>15:40</td>\n",
       "      <td>3</td>\n",
       "      <td>16:15</td>\n",
       "      <td>1</td>\n",
       "      <td>M3020</td>\n",
       "      <td>5</td>\n",
       "      <td>3</td>\n",
       "      <td>1</td>\n",
       "      <td>6385.849606</td>\n",
       "      <td>305</td>\n",
       "    </tr>\n",
       "    <tr>\n",
       "      <th>18630</th>\n",
       "      <td>210187</td>\n",
       "      <td>1</td>\n",
       "      <td>21</td>\n",
       "      <td>PUEBLA</td>\n",
       "      <td>1</td>\n",
       "      <td>84</td>\n",
       "      <td>8</td>\n",
       "      <td>57.050</td>\n",
       "      <td>2</td>\n",
       "      <td>156.20</td>\n",
       "      <td>...</td>\n",
       "      <td>21:00</td>\n",
       "      <td>3</td>\n",
       "      <td>21:05</td>\n",
       "      <td>1</td>\n",
       "      <td>M2105</td>\n",
       "      <td>3</td>\n",
       "      <td>2</td>\n",
       "      <td>1</td>\n",
       "      <td>1133.871396</td>\n",
       "      <td>213</td>\n",
       "    </tr>\n",
       "    <tr>\n",
       "      <th>18634</th>\n",
       "      <td>10315</td>\n",
       "      <td>2</td>\n",
       "      <td>1</td>\n",
       "      <td>AGUASCALIENTES</td>\n",
       "      <td>1</td>\n",
       "      <td>29</td>\n",
       "      <td>0</td>\n",
       "      <td>118.850</td>\n",
       "      <td>2</td>\n",
       "      <td>168.80</td>\n",
       "      <td>...</td>\n",
       "      <td>18:13</td>\n",
       "      <td>1</td>\n",
       "      <td>18:28</td>\n",
       "      <td>1</td>\n",
       "      <td>M0109</td>\n",
       "      <td>5</td>\n",
       "      <td>3</td>\n",
       "      <td>1</td>\n",
       "      <td>1188.823820</td>\n",
       "      <td>15</td>\n",
       "    </tr>\n",
       "    <tr>\n",
       "      <th>18637</th>\n",
       "      <td>301099</td>\n",
       "      <td>1</td>\n",
       "      <td>30</td>\n",
       "      <td>VERACRUZ DE IGNACIO DE LA LLAVE</td>\n",
       "      <td>1</td>\n",
       "      <td>86</td>\n",
       "      <td>7</td>\n",
       "      <td>46.750</td>\n",
       "      <td>2</td>\n",
       "      <td>149.20</td>\n",
       "      <td>...</td>\n",
       "      <td>8:00</td>\n",
       "      <td>3</td>\n",
       "      <td>23:00</td>\n",
       "      <td>1</td>\n",
       "      <td>M3024</td>\n",
       "      <td>2</td>\n",
       "      <td>1</td>\n",
       "      <td>2</td>\n",
       "      <td>1758.912979</td>\n",
       "      <td>302</td>\n",
       "    </tr>\n",
       "  </tbody>\n",
       "</table>\n",
       "<p>8154 rows × 26 columns</p>\n",
       "</div>"
      ],
      "text/plain": [
       "        folio  intp  entidad                         desc_ent  sexo  edad  \\\n",
       "3       91526     4        9                 DISTRITO FEDERAL     1    10   \n",
       "5      241555     3       24                  SAN LUIS POTOSI     1    10   \n",
       "9       31220     3        3              BAJA CALIFORNIA SUR     1    10   \n",
       "17     320763     4       32                        ZACATECAS     1    11   \n",
       "21     261348     5       26                           SONORA     1    11   \n",
       "...       ...   ...      ...                              ...   ...   ...   \n",
       "18626  171455     1       17                          MORELOS     1    71   \n",
       "18627  300843     1       30  VERACRUZ DE IGNACIO DE LA LLAVE     1    79   \n",
       "18630  210187     1       21                           PUEBLA     1    84   \n",
       "18634   10315     2        1                   AGUASCALIENTES     1    29   \n",
       "18637  301099     1       30  VERACRUZ DE IGNACIO DE LA LLAVE     1    86   \n",
       "\n",
       "       meses     peso  ropa   talla  ... hpresion tbrazo  htension  \\\n",
       "3          8   33.400     2  146.50  ...     7:40      3      7:45   \n",
       "5          7   31.900     1  141.45  ...    20:12      1     20:19   \n",
       "9         10   48.025     1  147.05  ...    17:09      2     17:09   \n",
       "17         3   31.500     1  140.65  ...    12:40      1     12:55   \n",
       "21         7   59.850     2  146.50  ...     7:00      2      7:10   \n",
       "...      ...      ...   ...     ...  ...      ...    ...       ...   \n",
       "18626      1   77.350     2  171.30  ...     8:20      1      8:30   \n",
       "18627      3   68.600     1  150.20  ...    15:40      3     16:15   \n",
       "18630      8   57.050     2  156.20  ...    21:00      3     21:05   \n",
       "18634      0  118.850     2  168.80  ...    18:13      1     18:28   \n",
       "18637      7   46.750     2  149.20  ...     8:00      3     23:00   \n",
       "\n",
       "       PrimaryLast  code_upm  est_dis est_urb est_marg       pondef  est_var  \n",
       "3                1     M0931        4       3        2  1832.581391       94  \n",
       "5                1     M2435        5       3        1   588.463281      245  \n",
       "9                1     M0331        5       3        1   138.063636       35  \n",
       "17               1     M3220        3       2        1  1285.844656      323  \n",
       "21               1     M2632        2       1        2   737.343409      262  \n",
       "...            ...       ...      ...     ...      ...          ...      ...  \n",
       "18626            1     M1732        2       1        2   627.566400      172  \n",
       "18627            1     M3020        5       3        1  6385.849606      305  \n",
       "18630            1     M2105        3       2        1  1133.871396      213  \n",
       "18634            1     M0109        5       3        1  1188.823820       15  \n",
       "18637            1     M3024        2       1        2  1758.912979      302  \n",
       "\n",
       "[8154 rows x 26 columns]"
      ]
     },
     "execution_count": 5,
     "metadata": {},
     "output_type": "execute_result"
    }
   ],
   "source": [
    "peso_sex1 = data[data['sexo']== 1]\n",
    "peso_sex1"
   ]
  },
  {
   "cell_type": "code",
   "execution_count": 6,
   "metadata": {},
   "outputs": [
    {
     "data": {
      "text/plain": [
       "array(['PUEBLA', 'DURANGO', 'AGUASCALIENTES', 'DISTRITO FEDERAL',\n",
       "       'SAN LUIS POTOSI', 'CHIHUAHUA', 'BAJA CALIFORNIA SUR',\n",
       "       'GUANAJUATO', 'OAXACA', 'ZACATECAS', 'MORELOS', 'YUCATAN',\n",
       "       'MICHOACAN DE OCAMPO', 'SONORA', 'BAJA CALIFORNIA', 'CAMPECHE',\n",
       "       'COAHUILA DE ZARAGOZA', 'COLIMA', 'CHIAPAS', 'GUERRERO', 'HIDALGO',\n",
       "       'MEXICO', 'QUERETARO', 'SINALOA', 'TAMAULIPAS', 'TLAXCALA',\n",
       "       'NAYARIT', 'TABASCO', 'VERACRUZ DE IGNACIO DE LA LLAVE',\n",
       "       'NUEVO LEON', 'QUINTANA ROO', 'JALISCO'], dtype=object)"
      ]
     },
     "execution_count": 6,
     "metadata": {},
     "output_type": "execute_result"
    }
   ],
   "source": [
    "data.desc_ent.unique()"
   ]
  },
  {
   "cell_type": "code",
   "execution_count": 7,
   "metadata": {},
   "outputs": [],
   "source": [
    "peso_sex1 = pd.pivot_table(peso_sex1, index=[\"desc_ent\"], values=[\"peso\"], aggfunc=[np.median])"
   ]
  },
  {
   "cell_type": "code",
   "execution_count": 8,
   "metadata": {},
   "outputs": [
    {
     "data": {
      "text/plain": [
       "<matplotlib.axes._subplots.AxesSubplot at 0x7f17f38ed7d0>"
      ]
     },
     "execution_count": 8,
     "metadata": {},
     "output_type": "execute_result"
    },
    {
     "data": {
      "image/png": "[encoded data removed]",
      "text/plain": [
       "<Figure size 432x288 with 1 Axes>"
      ]
     },
     "metadata": {},
     "output_type": "display_data"
    }
   ],
   "source": [
    "peso_sex1.boxplot()"
   ]
  },
  {
   "cell_type": "code",
   "execution_count": 9,
   "metadata": {},
   "outputs": [],
   "source": [
    "cintura_sex1 = data['cintura']"
   ]
  },
  {
   "cell_type": "code",
   "execution_count": 10,
   "metadata": {},
   "outputs": [],
   "source": [
    "cintura_sex1 = data[data['sexo']==1]"
   ]
  },
  {
   "cell_type": "code",
   "execution_count": 11,
   "metadata": {},
   "outputs": [],
   "source": [
    "cintura_sex1 = pd.pivot_table(cintura_sex1, index=[\"desc_ent\"], values=[\"cintura\"], aggfunc=[np.median])"
   ]
  },
  {
   "cell_type": "code",
   "execution_count": 12,
   "metadata": {},
   "outputs": [
    {
     "data": {
      "text/plain": [
       "<matplotlib.axes._subplots.AxesSubplot at 0x7f17f3898f50>"
      ]
     },
     "execution_count": 12,
     "metadata": {},
     "output_type": "execute_result"
    },
    {
     "data": {
      "image/png": "[encoded data removed]",
      "text/plain": [
       "<Figure size 432x288 with 1 Axes>"
      ]
     },
     "metadata": {},
     "output_type": "display_data"
    }
   ],
   "source": [
    "sns.lineplot(data=cintura_sex1)"
   ]
  },
  {
   "cell_type": "code",
   "execution_count": 13,
   "metadata": {},
   "outputs": [],
   "source": [
    "sum_ropa = data[data['sexo']==2]\n",
    "\n"
   ]
  },
  {
   "cell_type": "code",
   "execution_count": 14,
   "metadata": {},
   "outputs": [],
   "source": [
    "sum_ropa = pd.pivot_table(sum_ropa, index=\"desc_ent\",values=[\"ropa\"], aggfunc=[np.sum])"
   ]
  },
  {
   "cell_type": "code",
   "execution_count": 19,
   "metadata": {},
   "outputs": [
    {
     "data": {
      "text/html": [
       "<div>\n",
       "<style scoped>\n",
       "    .dataframe tbody tr th:only-of-type {\n",
       "        vertical-align: middle;\n",
       "    }\n",
       "\n",
       "    .dataframe tbody tr th {\n",
       "        vertical-align: top;\n",
       "    }\n",
       "\n",
       "    .dataframe thead tr th {\n",
       "        text-align: left;\n",
       "    }\n",
       "\n",
       "    .dataframe thead tr:last-of-type th {\n",
       "        text-align: right;\n",
       "    }\n",
       "</style>\n",
       "<table border=\"1\" class=\"dataframe\">\n",
       "  <thead>\n",
       "    <tr>\n",
       "      <th></th>\n",
       "      <th>sum</th>\n",
       "    </tr>\n",
       "    <tr>\n",
       "      <th></th>\n",
       "      <th>ropa</th>\n",
       "    </tr>\n",
       "    <tr>\n",
       "      <th>desc_ent</th>\n",
       "      <th></th>\n",
       "    </tr>\n",
       "  </thead>\n",
       "  <tbody>\n",
       "    <tr>\n",
       "      <th>AGUASCALIENTES</th>\n",
       "      <td>579</td>\n",
       "    </tr>\n",
       "    <tr>\n",
       "      <th>BAJA CALIFORNIA</th>\n",
       "      <td>466</td>\n",
       "    </tr>\n",
       "    <tr>\n",
       "      <th>BAJA CALIFORNIA SUR</th>\n",
       "      <td>440</td>\n",
       "    </tr>\n",
       "    <tr>\n",
       "      <th>CAMPECHE</th>\n",
       "      <td>443</td>\n",
       "    </tr>\n",
       "    <tr>\n",
       "      <th>CHIAPAS</th>\n",
       "      <td>540</td>\n",
       "    </tr>\n",
       "    <tr>\n",
       "      <th>CHIHUAHUA</th>\n",
       "      <td>526</td>\n",
       "    </tr>\n",
       "    <tr>\n",
       "      <th>COAHUILA DE ZARAGOZA</th>\n",
       "      <td>439</td>\n",
       "    </tr>\n",
       "    <tr>\n",
       "      <th>COLIMA</th>\n",
       "      <td>543</td>\n",
       "    </tr>\n",
       "    <tr>\n",
       "      <th>DISTRITO FEDERAL</th>\n",
       "      <td>298</td>\n",
       "    </tr>\n",
       "    <tr>\n",
       "      <th>DURANGO</th>\n",
       "      <td>515</td>\n",
       "    </tr>\n",
       "    <tr>\n",
       "      <th>GUANAJUATO</th>\n",
       "      <td>590</td>\n",
       "    </tr>\n",
       "    <tr>\n",
       "      <th>GUERRERO</th>\n",
       "      <td>570</td>\n",
       "    </tr>\n",
       "    <tr>\n",
       "      <th>HIDALGO</th>\n",
       "      <td>518</td>\n",
       "    </tr>\n",
       "    <tr>\n",
       "      <th>JALISCO</th>\n",
       "      <td>479</td>\n",
       "    </tr>\n",
       "    <tr>\n",
       "      <th>MEXICO</th>\n",
       "      <td>370</td>\n",
       "    </tr>\n",
       "    <tr>\n",
       "      <th>MICHOACAN DE OCAMPO</th>\n",
       "      <td>543</td>\n",
       "    </tr>\n",
       "    <tr>\n",
       "      <th>MORELOS</th>\n",
       "      <td>554</td>\n",
       "    </tr>\n",
       "    <tr>\n",
       "      <th>NAYARIT</th>\n",
       "      <td>542</td>\n",
       "    </tr>\n",
       "    <tr>\n",
       "      <th>NUEVO LEON</th>\n",
       "      <td>530</td>\n",
       "    </tr>\n",
       "    <tr>\n",
       "      <th>OAXACA</th>\n",
       "      <td>551</td>\n",
       "    </tr>\n",
       "    <tr>\n",
       "      <th>PUEBLA</th>\n",
       "      <td>518</td>\n",
       "    </tr>\n",
       "    <tr>\n",
       "      <th>QUERETARO</th>\n",
       "      <td>566</td>\n",
       "    </tr>\n",
       "    <tr>\n",
       "      <th>QUINTANA ROO</th>\n",
       "      <td>523</td>\n",
       "    </tr>\n",
       "    <tr>\n",
       "      <th>SAN LUIS POTOSI</th>\n",
       "      <td>694</td>\n",
       "    </tr>\n",
       "    <tr>\n",
       "      <th>SINALOA</th>\n",
       "      <td>433</td>\n",
       "    </tr>\n",
       "    <tr>\n",
       "      <th>SONORA</th>\n",
       "      <td>476</td>\n",
       "    </tr>\n",
       "    <tr>\n",
       "      <th>TABASCO</th>\n",
       "      <td>477</td>\n",
       "    </tr>\n",
       "    <tr>\n",
       "      <th>TAMAULIPAS</th>\n",
       "      <td>462</td>\n",
       "    </tr>\n",
       "    <tr>\n",
       "      <th>TLAXCALA</th>\n",
       "      <td>536</td>\n",
       "    </tr>\n",
       "    <tr>\n",
       "      <th>VERACRUZ DE IGNACIO DE LA LLAVE</th>\n",
       "      <td>667</td>\n",
       "    </tr>\n",
       "    <tr>\n",
       "      <th>YUCATAN</th>\n",
       "      <td>537</td>\n",
       "    </tr>\n",
       "    <tr>\n",
       "      <th>ZACATECAS</th>\n",
       "      <td>492</td>\n",
       "    </tr>\n",
       "  </tbody>\n",
       "</table>\n",
       "</div>"
      ],
      "text/plain": [
       "                                 sum\n",
       "                                ropa\n",
       "desc_ent                            \n",
       "AGUASCALIENTES                   579\n",
       "BAJA CALIFORNIA                  466\n",
       "BAJA CALIFORNIA SUR              440\n",
       "CAMPECHE                         443\n",
       "CHIAPAS                          540\n",
       "CHIHUAHUA                        526\n",
       "COAHUILA DE ZARAGOZA             439\n",
       "COLIMA                           543\n",
       "DISTRITO FEDERAL                 298\n",
       "DURANGO                          515\n",
       "GUANAJUATO                       590\n",
       "GUERRERO                         570\n",
       "HIDALGO                          518\n",
       "JALISCO                          479\n",
       "MEXICO                           370\n",
       "MICHOACAN DE OCAMPO              543\n",
       "MORELOS                          554\n",
       "NAYARIT                          542\n",
       "NUEVO LEON                       530\n",
       "OAXACA                           551\n",
       "PUEBLA                           518\n",
       "QUERETARO                        566\n",
       "QUINTANA ROO                     523\n",
       "SAN LUIS POTOSI                  694\n",
       "SINALOA                          433\n",
       "SONORA                           476\n",
       "TABASCO                          477\n",
       "TAMAULIPAS                       462\n",
       "TLAXCALA                         536\n",
       "VERACRUZ DE IGNACIO DE LA LLAVE  667\n",
       "YUCATAN                          537\n",
       "ZACATECAS                        492"
      ]
     },
     "execution_count": 19,
     "metadata": {},
     "output_type": "execute_result"
    }
   ],
   "source": [
    "sum_ropa"
   ]
  },
  {
   "cell_type": "code",
   "execution_count": 18,
   "metadata": {},
   "outputs": [
    {
     "data": {
      "image/png": "[encoded data removed]",
      "text/plain": [
       "<Figure size 432x288 with 1 Axes>"
      ]
     },
     "metadata": {},
     "output_type": "display_data"
    }
   ],
   "source": [
    "ax = sns.barplot(data=sum_ropa)"
   ]
  },
  {
   "cell_type": "code",
   "execution_count": 21,
   "metadata": {},
   "outputs": [
    {
     "data": {
      "text/plain": [
       "<matplotlib.axes._subplots.AxesSubplot at 0x7f17f3861b10>"
      ]
     },
     "execution_count": 21,
     "metadata": {},
     "output_type": "execute_result"
    },
    {
     "data": {
      "image/png": "[encoded data removed]",
      "text/plain": [
       "<Figure size 432x288 with 1 Axes>"
      ]
     },
     "metadata": {},
     "output_type": "display_data"
    }
   ],
   "source": [
    "cintura1 = data['cintura']\n",
    "cintura1.hist(bins=25)"
   ]
  },
  {
   "cell_type": "code",
   "execution_count": null,
   "metadata": {},
   "outputs": [],
   "source": []
  }
 ],
 "metadata": {
  "kernelspec": {
   "display_name": "Python 3 (ipykernel)",
   "language": "python",
   "name": "python3"
  },
  "language_info": {
   "codemirror_mode": {
    "name": "ipython",
    "version": 3
   },
   "file_extension": ".py",
   "mimetype": "text/x-python",
   "name": "python",
   "nbconvert_exporter": "python",
   "pygments_lexer": "ipython3",
   "version": "3.7.10"
  }
 },
 "nbformat": 4,
 "nbformat_minor": 4
}
